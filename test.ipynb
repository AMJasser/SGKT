{
 "cells": [
  {
   "cell_type": "code",
   "execution_count": 54,
   "metadata": {},
   "outputs": [],
   "source": [
    "from typing_extensions import final\n",
    "from model import SGKT\n",
    "# import tensorflow as tf\n",
    "import tensorflow.compat.v1 as tf\n",
    "tf.disable_v2_behavior()\n",
    "import numpy as np\n",
    "import os\n",
    "from tqdm import tqdm\n",
    "from sklearn.metrics import roc_auc_score, precision_recall_fscore_support, accuracy_score\n",
    "from data_process import DataGenerator, data_process\n",
    "import time\n",
    "import argparse\n",
    "from numpy.distutils.fcompiler import str2bool\n",
    "from args import Args\n",
    "from train import train"
   ]
  },
  {
   "cell_type": "code",
   "execution_count": 55,
   "metadata": {},
   "outputs": [],
   "source": [
    "args = {\n",
    "    \"data_dir\": \"data\",\n",
    "    \"log_dir\": \"logs\",\n",
    "    \"train\": 1,\n",
    "    \"hidden_neurons\": [200, 100],\n",
    "    \"lr\": 0.00025,\n",
    "    \"lr_decay\": 0.92,\n",
    "    \"checkpoint_dir\": \"checkpoint\",\n",
    "    \"dropout_keep_probs\": [0.8, 0.8, 1],\n",
    "    \"aggregator\": \"sum\",\n",
    "    \"model\": \"ssei\",\n",
    "    \"l2_weight\": 1e-08,\n",
    "    \"limit_max_len\": 200,\n",
    "    \"limit_min_len\": 3,\n",
    "    \"dataset\": \"custom\", ### DATASET\n",
    "    \"field_size\": 3,\n",
    "    \"embedding_size\": 100,\n",
    "    \"max_step\": 200,\n",
    "    \"input_trans_size\": 100,\n",
    "    \"batch_size\": 6,\n",
    "    \"select_index\": [0, 1, 2],\n",
    "    \"num_epochs\": 10,\n",
    "    \"n_hop\": 3,\n",
    "    \"skill_neighbor_num\": 4,\n",
    "    \"question_neighbor_num\": 4,\n",
    "    \"hist_neighbor_num\": 3,\n",
    "    \"next_neighbor_num\": 4,\n",
    "    \"att_bound\": 0.7,\n",
    "    \"sim_emb\": \"question_emb\",\n",
    "    \"tag\": time.time()\n",
    "}\n"
   ]
  },
  {
   "cell_type": "code",
   "execution_count": 56,
   "metadata": {},
   "outputs": [],
   "source": [
    "args = Args(args)"
   ]
  },
  {
   "cell_type": "code",
   "execution_count": 57,
   "metadata": {},
   "outputs": [
    {
     "name": "stdout",
     "output_type": "stream",
     "text": [
      "original test seqs num:2\n",
      "3\n",
      "10\n",
      "started adj\n",
      "built adj\n",
      "qs relations\n"
     ]
    }
   ],
   "source": [
    "args = data_process(args)"
   ]
  },
  {
   "cell_type": "code",
   "execution_count": 58,
   "metadata": {},
   "outputs": [
    {
     "name": "stdout",
     "output_type": "stream",
     "text": [
      "Metal device set to: Apple M1\n",
      "\n",
      "systemMemory: 16.00 GB\n",
      "maxCacheSize: 5.33 GB\n",
      "\n",
      "ssei\n",
      "WARNING:tensorflow:From /Users/jsjs/miniforge3/envs/tf/lib/python3.8/site-packages/tensorflow/python/util/dispatch.py:1176: calling dropout (from tensorflow.python.ops.nn_ops) with keep_prob is deprecated and will be removed in a future version.\n",
      "Instructions for updating:\n",
      "Please use `rate` instead of `keep_prob`. Rate should be set to `rate = 1 - keep_prob`.\n"
     ]
    },
    {
     "name": "stderr",
     "output_type": "stream",
     "text": [
      "2023-01-04 21:42:41.552973: I tensorflow/core/common_runtime/pluggable_device/pluggable_device_factory.cc:306] Could not identify NUMA node of platform GPU ID 0, defaulting to 0. Your kernel may not have been built with NUMA support.\n",
      "2023-01-04 21:42:41.553002: I tensorflow/core/common_runtime/pluggable_device/pluggable_device_factory.cc:272] Created TensorFlow device (/job:localhost/replica:0/task:0/device:GPU:0 with 0 MB memory) -> physical PluggableDevice (device: 0, name: METAL, pci bus id: <undefined>)\n",
      "/Users/jsjs/Programming/SGKT/model.py:103: UserWarning: `tf.layers.dense` is deprecated and will be removed in a future version. Please use `tf.keras.layers.Dense` instead.\n",
      "  feature_trans_embedding = tf.reshape(tf.layers.dense(tf.reshape(\n",
      "/Users/jsjs/Programming/SGKT/model.py:105: UserWarning: `tf.layers.dense` is deprecated and will be removed in a future version. Please use `tf.keras.layers.Dense` instead.\n",
      "  next_trans_embedding = tf.reshape(tf.layers.dense(tf.reshape(next_aggregate_embedding[0], [\n"
     ]
    },
    {
     "name": "stdout",
     "output_type": "stream",
     "text": [
      "WARNING:tensorflow:From /Users/jsjs/miniforge3/envs/tf/lib/python3.8/site-packages/tensorflow/python/util/dispatch.py:1176: batch_gather (from tensorflow.python.ops.array_ops) is deprecated and will be removed after 2017-10-25.\n",
      "Instructions for updating:\n",
      "`tf.batch_gather` is deprecated, please use `tf.gather` with `batch_dims=tf.rank(indices) - 1` instead.\n",
      "WARNING:tensorflow:From /Users/jsjs/Programming/SGKT/model.py:174: dynamic_rnn (from tensorflow.python.ops.rnn) is deprecated and will be removed in a future version.\n",
      "Instructions for updating:\n",
      "Please use `keras.layers.RNN(cell)`, which is equivalent to this API\n",
      "WARNING:tensorflow:From /Users/jsjs/miniforge3/envs/tf/lib/python3.8/site-packages/keras/layers/rnn/legacy_cells.py:588: calling Constant.__init__ (from tensorflow.python.ops.init_ops) with dtype is deprecated and will be removed in a future version.\n",
      "Instructions for updating:\n",
      "Call initializer instance with the dtype argument instead of passing it to the constructor\n",
      "WARNING:tensorflow:From /Users/jsjs/miniforge3/envs/tf/lib/python3.8/site-packages/keras/layers/rnn/legacy_cells.py:602: calling Zeros.__init__ (from tensorflow.python.ops.init_ops) with dtype is deprecated and will be removed in a future version.\n",
      "Instructions for updating:\n",
      "Call initializer instance with the dtype argument instead of passing it to the constructor\n"
     ]
    },
    {
     "name": "stderr",
     "output_type": "stream",
     "text": [
      "/Users/jsjs/Programming/SGKT/model.py:123: UserWarning: `tf.layers.dense` is deprecated and will be removed in a future version. Please use `tf.keras.layers.Dense` instead.\n",
      "  input_trans_embedding = tf.reshape(tf.layers.dense(input_fa_embedding, hidden_size),\n",
      "/Users/jsjs/Programming/SGKT/model.py:158: UserWarning: `tf.nn.rnn_cell.GRUCell` is deprecated and will be removed in a future version. This class is equivalent as `tf.keras.layers.GRUCell`, and will be replaced by that in Tensorflow 2.0.\n",
      "  cell = tf.nn.rnn_cell.GRUCell(self.embedding_size, dtype=tf.float32)\n"
     ]
    },
    {
     "name": "stdout",
     "output_type": "stream",
     "text": [
      "initialize complete\n",
      "If\n"
     ]
    },
    {
     "name": "stderr",
     "output_type": "stream",
     "text": [
      "2023-01-04 21:44:16.945346: I tensorflow/compiler/mlir/mlir_graph_optimization_pass.cc:357] MLIR V1 optimization pass is not enabled\n",
      "2023-01-04 21:44:20.875621: W tensorflow/tsl/platform/profile_utils/cpu_utils.cc:128] Failed to get CPU frequency: 0 Hz\n",
      "2023-01-04 21:44:21.299589: I tensorflow/core/grappler/optimizers/custom_graph_optimizer_registry.cc:114] Plugin optimizer for device_type GPU is enabled.\n"
     ]
    },
    {
     "name": "stdout",
     "output_type": "stream",
     "text": [
      "start training\n"
     ]
    },
    {
     "name": "stderr",
     "output_type": "stream",
     "text": [
      "  0%|          | 0/10 [00:00<?, ?it/s]"
     ]
    },
    {
     "name": "stdout",
     "output_type": "stream",
     "text": [
      "epoch: 0\n"
     ]
    },
    {
     "name": "stderr",
     "output_type": "stream",
     "text": [
      "/Users/jsjs/Programming/SGKT/data_process.py:233: VisibleDeprecationWarning: Creating an ndarray from ragged nested sequences (which is a list-or-tuple of lists-or-tuples-or ndarrays with different lengths or shapes) is deprecated. If you meant to do this, you must specify 'dtype=object' when creating the ndarray.\n",
      "  target_answers = pad_sequences(np.array([[j[-1] - feature_size for j in i[1:]] for i in seqs]), maxlen=max_step-1, padding='post', value=0)\n",
      "2023-01-04 21:44:23.448233: I tensorflow/core/grappler/optimizers/custom_graph_optimizer_registry.cc:114] Plugin optimizer for device_type GPU is enabled.\n"
     ]
    },
    {
     "name": "stdout",
     "output_type": "stream",
     "text": [
      "BATCH: 1 / 2\n",
      "LOSS: 20.467323303222656\n",
      "\n",
      "train loss = 20.467323303222656,auc=0.5367965367965368, accuracy=0.5625\n"
     ]
    },
    {
     "name": "stderr",
     "output_type": "stream",
     "text": [
      "/Users/jsjs/Programming/SGKT/data_process.py:233: VisibleDeprecationWarning: Creating an ndarray from ragged nested sequences (which is a list-or-tuple of lists-or-tuples-or ndarrays with different lengths or shapes) is deprecated. If you meant to do this, you must specify 'dtype=object' when creating the ndarray.\n",
      "  target_answers = pad_sequences(np.array([[j[-1] - feature_size for j in i[1:]] for i in seqs]), maxlen=max_step-1, padding='post', value=0)\n",
      "2023-01-04 21:46:47.082807: I tensorflow/core/grappler/optimizers/custom_graph_optimizer_registry.cc:114] Plugin optimizer for device_type GPU is enabled.\n"
     ]
    },
    {
     "name": "stdout",
     "output_type": "stream",
     "text": [
      "\n",
      "valid auc=1.0, accuracy=0.7142857142857143, precision=[1.  0.5], recall=[0.6 1. ]\n",
      "0.0000 to 1.0000\n"
     ]
    },
    {
     "name": "stderr",
     "output_type": "stream",
     "text": [
      "2023-01-04 21:47:52.128963: I tensorflow/core/grappler/optimizers/custom_graph_optimizer_registry.cc:114] Plugin optimizer for device_type GPU is enabled.\n",
      " 10%|█         | 1/10 [03:45<33:52, 225.79s/it]"
     ]
    },
    {
     "name": "stdout",
     "output_type": "stream",
     "text": [
      "Save checkpoint at 0\n",
      "custom_ssei_0.00025lr_3hop_4sn_4qn_3hn_4nn_question_emb_0.7bound_[0.8, 0.8, 1]keep_1672857761.489663\t1.0\n",
      "epoch: 1\n"
     ]
    },
    {
     "name": "stderr",
     "output_type": "stream",
     "text": [
      "/Users/jsjs/Programming/SGKT/data_process.py:233: VisibleDeprecationWarning: Creating an ndarray from ragged nested sequences (which is a list-or-tuple of lists-or-tuples-or ndarrays with different lengths or shapes) is deprecated. If you meant to do this, you must specify 'dtype=object' when creating the ndarray.\n",
      "  target_answers = pad_sequences(np.array([[j[-1] - feature_size for j in i[1:]] for i in seqs]), maxlen=max_step-1, padding='post', value=0)\n"
     ]
    },
    {
     "name": "stdout",
     "output_type": "stream",
     "text": [
      "BATCH: 1 / 2\n",
      "LOSS: 19.566587448120117\n",
      "\n",
      "train loss = 19.566587448120117,auc=0.658008658008658, accuracy=0.65625\n"
     ]
    },
    {
     "name": "stderr",
     "output_type": "stream",
     "text": [
      "/Users/jsjs/Programming/SGKT/data_process.py:233: VisibleDeprecationWarning: Creating an ndarray from ragged nested sequences (which is a list-or-tuple of lists-or-tuples-or ndarrays with different lengths or shapes) is deprecated. If you meant to do this, you must specify 'dtype=object' when creating the ndarray.\n",
      "  target_answers = pad_sequences(np.array([[j[-1] - feature_size for j in i[1:]] for i in seqs]), maxlen=max_step-1, padding='post', value=0)\n",
      " 20%|██        | 2/10 [04:45<17:06, 128.29s/it]"
     ]
    },
    {
     "name": "stdout",
     "output_type": "stream",
     "text": [
      "\n",
      "valid auc=0.9, accuracy=0.5714285714285714, precision=[1.  0.4], recall=[0.4 1. ]\n",
      "custom_ssei_0.00025lr_3hop_4sn_4qn_3hn_4nn_question_emb_0.7bound_[0.8, 0.8, 1]keep_1672857761.489663\t1.0\n",
      "epoch: 2\n"
     ]
    },
    {
     "name": "stderr",
     "output_type": "stream",
     "text": [
      "/Users/jsjs/Programming/SGKT/data_process.py:233: VisibleDeprecationWarning: Creating an ndarray from ragged nested sequences (which is a list-or-tuple of lists-or-tuples-or ndarrays with different lengths or shapes) is deprecated. If you meant to do this, you must specify 'dtype=object' when creating the ndarray.\n",
      "  target_answers = pad_sequences(np.array([[j[-1] - feature_size for j in i[1:]] for i in seqs]), maxlen=max_step-1, padding='post', value=0)\n"
     ]
    },
    {
     "name": "stdout",
     "output_type": "stream",
     "text": [
      "BATCH: 1 / 2\n",
      "LOSS: 18.608360290527344\n",
      "\n",
      "train loss = 18.608360290527344,auc=0.6450216450216449, accuracy=0.6875\n"
     ]
    },
    {
     "name": "stderr",
     "output_type": "stream",
     "text": [
      "/Users/jsjs/Programming/SGKT/data_process.py:233: VisibleDeprecationWarning: Creating an ndarray from ragged nested sequences (which is a list-or-tuple of lists-or-tuples-or ndarrays with different lengths or shapes) is deprecated. If you meant to do this, you must specify 'dtype=object' when creating the ndarray.\n",
      "  target_answers = pad_sequences(np.array([[j[-1] - feature_size for j in i[1:]] for i in seqs]), maxlen=max_step-1, padding='post', value=0)\n",
      " 30%|███       | 3/10 [05:34<10:42, 91.82s/it] "
     ]
    },
    {
     "name": "stdout",
     "output_type": "stream",
     "text": [
      "\n",
      "valid auc=0.8, accuracy=0.42857142857142855, precision=[1.         0.33333333], recall=[0.2 1. ]\n",
      "custom_ssei_0.00025lr_3hop_4sn_4qn_3hn_4nn_question_emb_0.7bound_[0.8, 0.8, 1]keep_1672857761.489663\t1.0\n",
      "epoch: 3\n"
     ]
    },
    {
     "name": "stderr",
     "output_type": "stream",
     "text": [
      "/Users/jsjs/Programming/SGKT/data_process.py:233: VisibleDeprecationWarning: Creating an ndarray from ragged nested sequences (which is a list-or-tuple of lists-or-tuples-or ndarrays with different lengths or shapes) is deprecated. If you meant to do this, you must specify 'dtype=object' when creating the ndarray.\n",
      "  target_answers = pad_sequences(np.array([[j[-1] - feature_size for j in i[1:]] for i in seqs]), maxlen=max_step-1, padding='post', value=0)\n"
     ]
    },
    {
     "name": "stdout",
     "output_type": "stream",
     "text": [
      "BATCH: 1 / 2\n",
      "LOSS: 17.376544952392578\n",
      "\n",
      "train loss = 17.376544952392578,auc=0.6753246753246753, accuracy=0.65625\n"
     ]
    },
    {
     "name": "stderr",
     "output_type": "stream",
     "text": [
      "/Users/jsjs/Programming/SGKT/data_process.py:233: VisibleDeprecationWarning: Creating an ndarray from ragged nested sequences (which is a list-or-tuple of lists-or-tuples-or ndarrays with different lengths or shapes) is deprecated. If you meant to do this, you must specify 'dtype=object' when creating the ndarray.\n",
      "  target_answers = pad_sequences(np.array([[j[-1] - feature_size for j in i[1:]] for i in seqs]), maxlen=max_step-1, padding='post', value=0)\n",
      " 40%|████      | 4/10 [06:42<08:14, 82.46s/it]"
     ]
    },
    {
     "name": "stdout",
     "output_type": "stream",
     "text": [
      "\n",
      "valid auc=0.7, accuracy=0.42857142857142855, precision=[1.         0.33333333], recall=[0.2 1. ]\n",
      "custom_ssei_0.00025lr_3hop_4sn_4qn_3hn_4nn_question_emb_0.7bound_[0.8, 0.8, 1]keep_1672857761.489663\t1.0\n",
      "epoch: 4\n"
     ]
    },
    {
     "name": "stderr",
     "output_type": "stream",
     "text": [
      "/Users/jsjs/Programming/SGKT/data_process.py:233: VisibleDeprecationWarning: Creating an ndarray from ragged nested sequences (which is a list-or-tuple of lists-or-tuples-or ndarrays with different lengths or shapes) is deprecated. If you meant to do this, you must specify 'dtype=object' when creating the ndarray.\n",
      "  target_answers = pad_sequences(np.array([[j[-1] - feature_size for j in i[1:]] for i in seqs]), maxlen=max_step-1, padding='post', value=0)\n"
     ]
    },
    {
     "name": "stdout",
     "output_type": "stream",
     "text": [
      "BATCH: 1 / 2\n",
      "LOSS: 16.910757064819336\n",
      "\n",
      "train loss = 16.910757064819336,auc=0.670995670995671, accuracy=0.6875\n"
     ]
    },
    {
     "name": "stderr",
     "output_type": "stream",
     "text": [
      "/Users/jsjs/Programming/SGKT/data_process.py:233: VisibleDeprecationWarning: Creating an ndarray from ragged nested sequences (which is a list-or-tuple of lists-or-tuples-or ndarrays with different lengths or shapes) is deprecated. If you meant to do this, you must specify 'dtype=object' when creating the ndarray.\n",
      "  target_answers = pad_sequences(np.array([[j[-1] - feature_size for j in i[1:]] for i in seqs]), maxlen=max_step-1, padding='post', value=0)\n",
      " 50%|█████     | 5/10 [07:41<06:09, 73.92s/it]"
     ]
    },
    {
     "name": "stdout",
     "output_type": "stream",
     "text": [
      "\n",
      "valid auc=0.6, accuracy=0.42857142857142855, precision=[1.         0.33333333], recall=[0.2 1. ]\n",
      "custom_ssei_0.00025lr_3hop_4sn_4qn_3hn_4nn_question_emb_0.7bound_[0.8, 0.8, 1]keep_1672857761.489663\t1.0\n",
      "epoch: 5\n"
     ]
    },
    {
     "name": "stderr",
     "output_type": "stream",
     "text": [
      "/Users/jsjs/Programming/SGKT/data_process.py:233: VisibleDeprecationWarning: Creating an ndarray from ragged nested sequences (which is a list-or-tuple of lists-or-tuples-or ndarrays with different lengths or shapes) is deprecated. If you meant to do this, you must specify 'dtype=object' when creating the ndarray.\n",
      "  target_answers = pad_sequences(np.array([[j[-1] - feature_size for j in i[1:]] for i in seqs]), maxlen=max_step-1, padding='post', value=0)\n"
     ]
    },
    {
     "name": "stdout",
     "output_type": "stream",
     "text": [
      "BATCH: 1 / 2\n",
      "LOSS: 15.598846435546875\n",
      "\n",
      "train loss = 15.598846435546875,auc=0.7229437229437229, accuracy=0.6875\n"
     ]
    },
    {
     "name": "stderr",
     "output_type": "stream",
     "text": [
      "/Users/jsjs/Programming/SGKT/data_process.py:233: VisibleDeprecationWarning: Creating an ndarray from ragged nested sequences (which is a list-or-tuple of lists-or-tuples-or ndarrays with different lengths or shapes) is deprecated. If you meant to do this, you must specify 'dtype=object' when creating the ndarray.\n",
      "  target_answers = pad_sequences(np.array([[j[-1] - feature_size for j in i[1:]] for i in seqs]), maxlen=max_step-1, padding='post', value=0)\n",
      " 60%|██████    | 6/10 [08:14<04:01, 60.29s/it]"
     ]
    },
    {
     "name": "stdout",
     "output_type": "stream",
     "text": [
      "\n",
      "valid auc=0.6, accuracy=0.42857142857142855, precision=[1.         0.33333333], recall=[0.2 1. ]\n",
      "custom_ssei_0.00025lr_3hop_4sn_4qn_3hn_4nn_question_emb_0.7bound_[0.8, 0.8, 1]keep_1672857761.489663\t1.0\n",
      "epoch: 6\n"
     ]
    },
    {
     "name": "stderr",
     "output_type": "stream",
     "text": [
      "/Users/jsjs/Programming/SGKT/data_process.py:233: VisibleDeprecationWarning: Creating an ndarray from ragged nested sequences (which is a list-or-tuple of lists-or-tuples-or ndarrays with different lengths or shapes) is deprecated. If you meant to do this, you must specify 'dtype=object' when creating the ndarray.\n",
      "  target_answers = pad_sequences(np.array([[j[-1] - feature_size for j in i[1:]] for i in seqs]), maxlen=max_step-1, padding='post', value=0)\n"
     ]
    },
    {
     "name": "stdout",
     "output_type": "stream",
     "text": [
      "BATCH: 1 / 2\n",
      "LOSS: 14.814828872680664\n",
      "\n",
      "train loss = 14.814828872680664,auc=0.7316017316017316, accuracy=0.75\n"
     ]
    },
    {
     "name": "stderr",
     "output_type": "stream",
     "text": [
      "/Users/jsjs/Programming/SGKT/data_process.py:233: VisibleDeprecationWarning: Creating an ndarray from ragged nested sequences (which is a list-or-tuple of lists-or-tuples-or ndarrays with different lengths or shapes) is deprecated. If you meant to do this, you must specify 'dtype=object' when creating the ndarray.\n",
      "  target_answers = pad_sequences(np.array([[j[-1] - feature_size for j in i[1:]] for i in seqs]), maxlen=max_step-1, padding='post', value=0)\n",
      " 70%|███████   | 7/10 [08:58<02:44, 54.90s/it]"
     ]
    },
    {
     "name": "stdout",
     "output_type": "stream",
     "text": [
      "\n",
      "valid auc=0.6, accuracy=0.42857142857142855, precision=[1.         0.33333333], recall=[0.2 1. ]\n",
      "custom_ssei_0.00025lr_3hop_4sn_4qn_3hn_4nn_question_emb_0.7bound_[0.8, 0.8, 1]keep_1672857761.489663\t1.0\n",
      "epoch: 7\n"
     ]
    },
    {
     "name": "stderr",
     "output_type": "stream",
     "text": [
      "/Users/jsjs/Programming/SGKT/data_process.py:233: VisibleDeprecationWarning: Creating an ndarray from ragged nested sequences (which is a list-or-tuple of lists-or-tuples-or ndarrays with different lengths or shapes) is deprecated. If you meant to do this, you must specify 'dtype=object' when creating the ndarray.\n",
      "  target_answers = pad_sequences(np.array([[j[-1] - feature_size for j in i[1:]] for i in seqs]), maxlen=max_step-1, padding='post', value=0)\n"
     ]
    },
    {
     "name": "stdout",
     "output_type": "stream",
     "text": [
      "BATCH: 1 / 2\n",
      "LOSS: 13.505456924438477\n",
      "\n",
      "train loss = 13.505456924438477,auc=0.7705627705627706, accuracy=0.6875\n"
     ]
    },
    {
     "name": "stderr",
     "output_type": "stream",
     "text": [
      "/Users/jsjs/Programming/SGKT/data_process.py:233: VisibleDeprecationWarning: Creating an ndarray from ragged nested sequences (which is a list-or-tuple of lists-or-tuples-or ndarrays with different lengths or shapes) is deprecated. If you meant to do this, you must specify 'dtype=object' when creating the ndarray.\n",
      "  target_answers = pad_sequences(np.array([[j[-1] - feature_size for j in i[1:]] for i in seqs]), maxlen=max_step-1, padding='post', value=0)\n",
      " 80%|████████  | 8/10 [09:26<01:32, 46.31s/it]"
     ]
    },
    {
     "name": "stdout",
     "output_type": "stream",
     "text": [
      "\n",
      "valid auc=0.5, accuracy=0.42857142857142855, precision=[1.         0.33333333], recall=[0.2 1. ]\n",
      "custom_ssei_0.00025lr_3hop_4sn_4qn_3hn_4nn_question_emb_0.7bound_[0.8, 0.8, 1]keep_1672857761.489663\t1.0\n",
      "epoch: 8\n"
     ]
    },
    {
     "name": "stderr",
     "output_type": "stream",
     "text": [
      "/Users/jsjs/Programming/SGKT/data_process.py:233: VisibleDeprecationWarning: Creating an ndarray from ragged nested sequences (which is a list-or-tuple of lists-or-tuples-or ndarrays with different lengths or shapes) is deprecated. If you meant to do this, you must specify 'dtype=object' when creating the ndarray.\n",
      "  target_answers = pad_sequences(np.array([[j[-1] - feature_size for j in i[1:]] for i in seqs]), maxlen=max_step-1, padding='post', value=0)\n"
     ]
    },
    {
     "name": "stdout",
     "output_type": "stream",
     "text": [
      "BATCH: 1 / 2\n",
      "LOSS: 12.022970199584961\n",
      "\n",
      "train loss = 12.022970199584961,auc=0.8095238095238095, accuracy=0.78125\n"
     ]
    },
    {
     "name": "stderr",
     "output_type": "stream",
     "text": [
      "/Users/jsjs/Programming/SGKT/data_process.py:233: VisibleDeprecationWarning: Creating an ndarray from ragged nested sequences (which is a list-or-tuple of lists-or-tuples-or ndarrays with different lengths or shapes) is deprecated. If you meant to do this, you must specify 'dtype=object' when creating the ndarray.\n",
      "  target_answers = pad_sequences(np.array([[j[-1] - feature_size for j in i[1:]] for i in seqs]), maxlen=max_step-1, padding='post', value=0)\n",
      " 90%|█████████ | 9/10 [10:02<00:42, 42.96s/it]"
     ]
    },
    {
     "name": "stdout",
     "output_type": "stream",
     "text": [
      "\n",
      "valid auc=0.5, accuracy=0.42857142857142855, precision=[1.         0.33333333], recall=[0.2 1. ]\n",
      "custom_ssei_0.00025lr_3hop_4sn_4qn_3hn_4nn_question_emb_0.7bound_[0.8, 0.8, 1]keep_1672857761.489663\t1.0\n",
      "epoch: 9\n"
     ]
    },
    {
     "name": "stderr",
     "output_type": "stream",
     "text": [
      "/Users/jsjs/Programming/SGKT/data_process.py:233: VisibleDeprecationWarning: Creating an ndarray from ragged nested sequences (which is a list-or-tuple of lists-or-tuples-or ndarrays with different lengths or shapes) is deprecated. If you meant to do this, you must specify 'dtype=object' when creating the ndarray.\n",
      "  target_answers = pad_sequences(np.array([[j[-1] - feature_size for j in i[1:]] for i in seqs]), maxlen=max_step-1, padding='post', value=0)\n"
     ]
    },
    {
     "name": "stdout",
     "output_type": "stream",
     "text": [
      "BATCH: 1 / 2\n",
      "LOSS: 11.213621139526367\n",
      "\n",
      "train loss = 11.213621139526367,auc=0.8398268398268398, accuracy=0.78125\n"
     ]
    },
    {
     "name": "stderr",
     "output_type": "stream",
     "text": [
      "/Users/jsjs/Programming/SGKT/data_process.py:233: VisibleDeprecationWarning: Creating an ndarray from ragged nested sequences (which is a list-or-tuple of lists-or-tuples-or ndarrays with different lengths or shapes) is deprecated. If you meant to do this, you must specify 'dtype=object' when creating the ndarray.\n",
      "  target_answers = pad_sequences(np.array([[j[-1] - feature_size for j in i[1:]] for i in seqs]), maxlen=max_step-1, padding='post', value=0)\n",
      "100%|██████████| 10/10 [10:22<00:00, 62.21s/it]"
     ]
    },
    {
     "name": "stdout",
     "output_type": "stream",
     "text": [
      "\n",
      "valid auc=0.5, accuracy=0.42857142857142855, precision=[1.         0.33333333], recall=[0.2 1. ]\n",
      "custom_ssei_0.00025lr_3hop_4sn_4qn_3hn_4nn_question_emb_0.7bound_[0.8, 0.8, 1]keep_1672857761.489663\t1.0\n"
     ]
    },
    {
     "name": "stderr",
     "output_type": "stream",
     "text": [
      "\n"
     ]
    }
   ],
   "source": [
    "model = train(args, train_dkt=1)"
   ]
  }
 ],
 "metadata": {
  "kernelspec": {
   "display_name": "tf",
   "language": "python",
   "name": "python3"
  },
  "language_info": {
   "codemirror_mode": {
    "name": "ipython",
    "version": 3
   },
   "file_extension": ".py",
   "mimetype": "text/x-python",
   "name": "python",
   "nbconvert_exporter": "python",
   "pygments_lexer": "ipython3",
   "version": "3.8.15"
  },
  "orig_nbformat": 4,
  "vscode": {
   "interpreter": {
    "hash": "43c640052330e3ed4f882140857b053c49194cc8cb43d22f86afd83c8149a233"
   }
  }
 },
 "nbformat": 4,
 "nbformat_minor": 2
}
